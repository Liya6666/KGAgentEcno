{
 "cells": [
  {
   "cell_type": "code",
   "execution_count": null,
   "metadata": {},
   "outputs": [],
   "source": [
    "import os\n",
    "import json\n",
    "from tqdm import tqdm\n",
    "import pandas as pd\n",
    "import math\n",
    "import numpy as np\n",
    "from collections import defaultdict\n",
    "\n",
    "import pickle\n",
    "from collections import Counter"
   ]
  },
  {
   "cell_type": "code",
   "execution_count": null,
   "metadata": {},
   "outputs": [],
   "source": [
    "## nodes: opinion, opinion_cluster, court, docket\n",
    "## opinion features: plain_text\n",
    "## opinion_cluster features: syllabus, judges, case_name, attorneys\n",
    "## court: full_name, start_date, end_date, citation_string\n",
    "## docket: pacer_case_id, case_name_full\n",
    "\n",
    "## (parenthetical): text"
   ]
  },
  {
   "cell_type": "code",
   "execution_count": null,
   "metadata": {},
   "outputs": [],
   "source": [
    "raw_data_dir=\"/home/ubuntu/quic-efs/user/bowenjin/llm-graph-plugin/data/raw_data/legal\"\n",
    "save_dir=\"/home/ubuntu/quic-efs/user/bowenjin/llm-graph-plugin/data/processed_data/legal\""
   ]
  },
  {
   "cell_type": "code",
   "execution_count": null,
   "metadata": {},
   "outputs": [],
   "source": [
    "## read raw data files\n",
    "\n",
    "opinion_cluster_raw_data = pd.read_csv(os.path.join(raw_data_dir, 'opinion-clusters-2023-08-31.csv'))\n",
    "court_raw_data = pd.read_csv(os.path.join(raw_data_dir, 'courts-2023-08-31.csv'))\n",
    "citation_raw_data = pd.read_csv(os.path.join(raw_data_dir, 'citation-map-2023-08-31.csv'))\n",
    "parentheticals_raw_data = pd.read_csv(os.path.join(raw_data_dir, 'parentheticals-2023-08-31.csv'))\n",
    "dockets_raw_data = pd.read_csv(os.path.join(raw_data_dir, 'dockets-2023-08-31.csv'))\n",
    "opinion_raw_data = pd.read_csv(os.path.join(raw_data_dir, 'opinions-2023-08-31.csv'))\n",
    "\n",
    "pd.set_option('display.max_columns', None)\n",
    "pd.set_option('display.max_rows', None)\n"
   ]
  },
  {
   "cell_type": "code",
   "execution_count": null,
   "metadata": {},
   "outputs": [],
   "source": [
    "print(len(opinion_cluster_raw_data), len(dockets_raw_data), len(citation_raw_data), len(parentheticals_raw_data), len(opinion_raw_data))"
   ]
  },
  {
   "cell_type": "code",
   "execution_count": null,
   "metadata": {},
   "outputs": [],
   "source": [
    "opinion_raw_data.head(n=5)"
   ]
  },
  {
   "cell_type": "code",
   "execution_count": null,
   "metadata": {},
   "outputs": [],
   "source": [
    "opinion_cluster_raw_data.head(n=5)"
   ]
  },
  {
   "cell_type": "code",
   "execution_count": null,
   "metadata": {},
   "outputs": [],
   "source": [
    "court_raw_data.head(n=5)"
   ]
  },
  {
   "cell_type": "code",
   "execution_count": null,
   "metadata": {},
   "outputs": [],
   "source": [
    "dockets_raw_data.head(n=5)"
   ]
  },
  {
   "cell_type": "code",
   "execution_count": null,
   "metadata": {},
   "outputs": [],
   "source": [
    "parentheticals_raw_data.head(n=5)"
   ]
  },
  {
   "cell_type": "code",
   "execution_count": null,
   "metadata": {},
   "outputs": [],
   "source": [
    "citation_raw_data.head(n=5)"
   ]
  },
  {
   "cell_type": "code",
   "execution_count": null,
   "metadata": {},
   "outputs": [],
   "source": [
    "opinion_raw_data.head(n=5)"
   ]
  },
  {
   "cell_type": "code",
   "execution_count": null,
   "metadata": {},
   "outputs": [],
   "source": [
    "opinion_raw_data.loc[opinion_raw_data['id'] == 4539950]['html'].values[0]"
   ]
  },
  {
   "cell_type": "code",
   "execution_count": null,
   "metadata": {},
   "outputs": [],
   "source": [
    "# plain_text, html, html_lawbox, html_columbia, html_anon_2020, xml_harvard, html_with_citations\n",
    "all_set = set()\n",
    "for idd, row in tqdm(opinion_raw_data.iterrows()):\n",
    "    values = []\n",
    "    values.append(isinstance(row['plain_text'], str))\n",
    "    values.append(isinstance(row['html'], str))\n",
    "    values.append(isinstance(row['html_lawbox'], str))\n",
    "    values.append(isinstance(row['html_columbia'], str))\n",
    "    values.append(isinstance(row['html_anon_2020'], str))\n",
    "    values.append(isinstance(row['xml_harvard'], str))\n",
    "    values.append(isinstance(row['html_with_citations'], str))\n",
    "    all_set.add(tuple(values))\n",
    "print(all_set)"
   ]
  },
  {
   "cell_type": "code",
   "execution_count": null,
   "metadata": {},
   "outputs": [],
   "source": [
    "for idd, row in tqdm(opinion_raw_data.iterrows()):\n",
    "    values = []\n",
    "    values.append(isinstance(row['plain_text'], str))\n",
    "    values.append(isinstance(row['html'], str))\n",
    "    values.append(isinstance(row['html_lawbox'], str))\n",
    "    values.append(isinstance(row['html_columbia'], str))\n",
    "    values.append(isinstance(row['html_anon_2020'], str))\n",
    "    values.append(isinstance(row['xml_harvard'], str))\n",
    "    values.append(isinstance(row['html_with_citations'], str))\n",
    "    if isinstance(row['html_columbia'], str) and isinstance(row['html_with_citations'], str):\n",
    "        print(values)\n",
    "        print(row['html_columbia'])\n",
    "        raise ValueError('stop')"
   ]
  },
  {
   "cell_type": "code",
   "execution_count": null,
   "metadata": {},
   "outputs": [],
   "source": []
  },
  {
   "cell_type": "code",
   "execution_count": null,
   "metadata": {},
   "outputs": [],
   "source": [
    "for t in all_set:\n",
    "    if not t[0]:\n",
    "        print(t)"
   ]
  },
  {
   "cell_type": "code",
   "execution_count": null,
   "metadata": {},
   "outputs": [],
   "source": [
    "math.isnan(row['plain_text'])"
   ]
  },
  {
   "cell_type": "code",
   "execution_count": null,
   "metadata": {},
   "outputs": [],
   "source": []
  },
  {
   "cell_type": "code",
   "execution_count": null,
   "metadata": {},
   "outputs": [],
   "source": [
    "opinion_cluster_raw_data.head(n=5)"
   ]
  },
  {
   "cell_type": "code",
   "execution_count": null,
   "metadata": {},
   "outputs": [],
   "source": [
    "dockets_raw_data.head(n=5)"
   ]
  },
  {
   "cell_type": "code",
   "execution_count": null,
   "metadata": {},
   "outputs": [],
   "source": [
    "court_raw_data.head(n=5)"
   ]
  },
  {
   "cell_type": "code",
   "execution_count": null,
   "metadata": {},
   "outputs": [],
   "source": [
    "opinion_raw_data.head(n=5)"
   ]
  },
  {
   "cell_type": "code",
   "execution_count": null,
   "metadata": {},
   "outputs": [],
   "source": [
    "opinion_raw_data.loc[opinion_raw_data['id'] == 438723]"
   ]
  },
  {
   "cell_type": "code",
   "execution_count": null,
   "metadata": {},
   "outputs": [],
   "source": [
    "citation_raw_data.head(n=5)"
   ]
  },
  {
   "cell_type": "code",
   "execution_count": null,
   "metadata": {},
   "outputs": [],
   "source": [
    "max(citation_raw_data['depth'].tolist())"
   ]
  },
  {
   "cell_type": "code",
   "execution_count": null,
   "metadata": {},
   "outputs": [],
   "source": [
    "## construct book node dictionary\n",
    "## opinion features: date_created, date_modified, text (plain_text, html, html_lawbox, html_columbia, html_anon_2020, xml_harvard, html_with_citations)\n",
    "## opinion edges: citing opinions, cited opinions, opinion cluster\n",
    "\n",
    "## opinion_cluster features: date_created, date_modified, judges, date_filed, slug, case_name_short, case_name, case_name_full, scdb_id, scdb_decision_direction, scdb_votes_majority, scdb_votes_minority, attorneys, syllabus, headnotes, summary\n",
    "## opinion_cluster edges: opinions, docket\n",
    "\n",
    "## docket features: date_created, date_modified, date_last_index, date_filed, date_last_filing, case_name_short\tcase_name, case_name_full, slug, docket_number, docket_number_core, pacer_case_id, ia_date_first_change, date_blocked\n",
    "## docket edges: opinion cluster, court\n",
    "\n",
    "## court: date_modified, position, citation_string, short_name, full_name, url, start_date, end_date, jurisdiction, notes\n",
    "## court edges: docket\n",
    "\n",
    "\n",
    "opinion_nodes = {}\n",
    "opinion_cluster_nodes = {}\n",
    "docket_nodes = {}\n",
    "court_nodes = {}\n",
    "\n",
    "opinion_cluster2opinions = defaultdict(list)\n",
    "docket2opinion_clusters = defaultdict(list)\n",
    "court2docket = defaultdict(list)\n",
    "\n",
    "# opinions nodes\n",
    "for idd, opinion_row in tqdm(opinion_raw_data.iterrows()):\n",
    "\n",
    "    opinion_nodes[str(opinion_row['id'])] = {'features': {}, 'neighbors': {}}\n",
    "    ## add features\n",
    "    #opinion_nodes[str(opinion_row['id'])]['features']['date_created'] = opinion_row['date_created']\n",
    "    #opinion_nodes[str(opinion_row['id'])]['features']['date_modified'] = opinion_row['date_modified']\n",
    "    #opinion_nodes[str(opinion_row['id'])]['features']['xml_harvard'] = opinion_row['xml_harvard'] if isinstance(opinion_row['xml_harvard'], str) else ''\n",
    "    \n",
    "    if isinstance(opinion_row['plain_text'], str):\n",
    "        opinion_nodes[str(opinion_row['id'])]['features']['plain_text'] = opinion_row['plain_text']\n",
    "    elif isinstance(opinion_row['html'], str):\n",
    "        opinion_nodes[str(opinion_row['id'])]['features']['plain_text'] = opinion_row['html']\n",
    "    elif isinstance(opinion_row['html_lawbox'], str):\n",
    "        opinion_nodes[str(opinion_row['id'])]['features']['plain_text'] = opinion_row['html_lawbox']\n",
    "    elif isinstance(opinion_row['html_columbia'], str):\n",
    "        opinion_nodes[str(opinion_row['id'])]['features']['plain_text'] = opinion_row['html_columbia']\n",
    "    elif isinstance(opinion_row['html_anon_2020'], str):\n",
    "        opinion_nodes[str(opinion_row['id'])]['features']['plain_text'] = opinion_row['html_anon_2020']\n",
    "    elif isinstance(opinion_row['html_with_citations'], str):\n",
    "        opinion_nodes[str(opinion_row['id'])]['features']['plain_text'] = opinion_row['html_with_citations']\n",
    "    else:\n",
    "        opinion_nodes[str(opinion_row['id'])]['features']['plain_text'] = ''\n",
    "\n",
    "    ## add neighbors\n",
    "    opinion_nodes[str(opinion_row['id'])]['neighbors']['opinion_cluster'] = [str(opinion_row['cluster_id'])]\n",
    "    opinion_nodes[str(opinion_row['id'])]['neighbors']['reference'] = defaultdict(list) # key is number of citation, value is opinion id\n",
    "    opinion_nodes[str(opinion_row['id'])]['neighbors']['cited_by'] = defaultdict(list)\n",
    "    opinion_cluster2opinions[str(opinion_row['cluster_id'])].append(str(opinion_row['id']))\n",
    "\n",
    "miss_opinion_in_citation = 0\n",
    "## add neighbors\n",
    "for idd, citation_row in tqdm(citation_raw_data.iterrows()):\n",
    "    ## add cited_by\n",
    "    if str(citation_row['cited_opinion_id']) not in opinion_nodes or str(citation_row['citing_opinion_id']) not in opinion_nodes:\n",
    "        miss_opinion_in_citation += 1\n",
    "        continue\n",
    "    opinion_nodes[str(citation_row['cited_opinion_id'])]['neighbors']['cited_by'][str(citation_row['depth'])].append(str(citation_row['citing_opinion_id']))\n",
    "    opinion_nodes[str(citation_row['citing_opinion_id'])]['neighbors']['reference'][str(citation_row['depth'])].append(str(citation_row['cited_opinion_id']))\n",
    "print(f'Miss citation cnt:{miss_opinion_in_citation}')\n",
    "\n",
    "# opinion cluster nodes\n",
    "for idd, opinion_cluster_row in tqdm(opinion_cluster_raw_data.iterrows()):\n",
    "    opinion_cluster_nodes[str(opinion_cluster_row['id'])] = {'features': {}, 'neighbors': {}}\n",
    "    ## add features\n",
    "    #opinion_cluster_nodes[str(opinion_cluster_row['id'])]['features']['date_created'] = opinion_cluster_row['date_created']\n",
    "    #opinion_cluster_nodes[str(opinion_cluster_row['id'])]['features']['date_modified'] = opinion_cluster_row['date_modified']\n",
    "    opinion_cluster_nodes[str(opinion_cluster_row['id'])]['features']['judges'] = opinion_cluster_row['judges']\n",
    "    #opinion_cluster_nodes[str(opinion_cluster_row['id'])]['features']['date_filed'] = opinion_cluster_row['date_filed']\n",
    "    #opinion_cluster_nodes[str(opinion_cluster_row['id'])]['features']['slug'] = opinion_cluster_row['slug']\n",
    "    #opinion_cluster_nodes[str(opinion_cluster_row['id'])]['features']['case_name_short'] = opinion_cluster_row['case_name_short']\n",
    "    opinion_cluster_nodes[str(opinion_cluster_row['id'])]['features']['case_name'] = opinion_cluster_row['case_name']\n",
    "    opinion_cluster_nodes[str(opinion_cluster_row['id'])]['features']['case_name_full'] = opinion_cluster_row['case_name_full']\n",
    "    #opinion_cluster_nodes[str(opinion_cluster_row['id'])]['features']['scdb_id'] = opinion_cluster_row['scdb_id']\n",
    "    #opinion_cluster_nodes[str(opinion_cluster_row['id'])]['features']['scdb_decision_direction'] = opinion_cluster_row['scdb_decision_direction']\n",
    "    #opinion_cluster_nodes[str(opinion_cluster_row['id'])]['features']['scdb_votes_majority'] = opinion_cluster_row['scdb_votes_majority']\n",
    "    #opinion_cluster_nodes[str(opinion_cluster_row['id'])]['features']['scdb_votes_minority'] = opinion_cluster_row['scdb_votes_minority']\n",
    "    opinion_cluster_nodes[str(opinion_cluster_row['id'])]['features']['attorneys'] = opinion_cluster_row['attorneys']\n",
    "    opinion_cluster_nodes[str(opinion_cluster_row['id'])]['features']['syllabus'] = opinion_cluster_row['syllabus']\n",
    "    #opinion_cluster_nodes[str(opinion_cluster_row['id'])]['features']['headnotes'] = opinion_cluster_row['headnotes']\n",
    "    #opinion_cluster_nodes[str(opinion_cluster_row['id'])]['features']['summary'] = opinion_cluster_row['summary']\n",
    "    ## add neighbors\n",
    "    opinion_cluster_nodes[str(opinion_cluster_row['id'])]['neighbors']['opinion'] = opinion_cluster2opinions[str(opinion_cluster_row['id'])] if str(opinion_cluster_row['id']) in opinion_cluster2opinions else []\n",
    "    opinion_cluster_nodes[str(opinion_cluster_row['id'])]['neighbors']['docket'] = [str(opinion_cluster_row['docket_id'])]\n",
    "    docket2opinion_clusters[str(opinion_cluster_row['docket_id'])].append(str(opinion_cluster_row['id']))\n",
    "\n",
    "# add docket nodes\n",
    "for idd, docket_row in tqdm(dockets_raw_data.iterrows()):\n",
    "    docket_nodes[str(docket_row['id'])] = {'features': {}, 'neighbors': {}}\n",
    "    ## add features\n",
    "    #docket_nodes[str(docket_row['id'])]['features']['date_created'] = docket_row['date_created']\n",
    "    #docket_nodes[str(docket_row['id'])]['features']['date_modified'] = docket_row['date_modified']\n",
    "    #docket_nodes[str(docket_row['id'])]['features']['date_last_index'] = docket_row['date_last_index']\n",
    "    #docket_nodes[str(docket_row['id'])]['features']['date_filed'] = docket_row['date_filed']\n",
    "    #docket_nodes[str(docket_row['id'])]['features']['date_last_filing'] = docket_row['date_last_filing']\n",
    "    #docket_nodes[str(docket_row['id'])]['features']['case_name_short'] = docket_row['case_name_short']\n",
    "    #docket_nodes[str(docket_row['id'])]['features']['case_name'] = docket_row['case_name']\n",
    "    docket_nodes[str(docket_row['id'])]['features']['case_name_full'] = docket_row['case_name_full']\n",
    "    #docket_nodes[str(docket_row['id'])]['features']['slug'] = docket_row['slug']\n",
    "    #docket_nodes[str(docket_row['id'])]['features']['docket_number'] = docket_row['docket_number']\n",
    "    #docket_nodes[str(docket_row['id'])]['features']['docket_number_core'] = docket_row['docket_number_core']\n",
    "    docket_nodes[str(docket_row['id'])]['features']['pacer_case_id'] = docket_row['pacer_case_id']\n",
    "    #docket_nodes[str(docket_row['id'])]['features']['ia_date_first_change'] = docket_row['ia_date_first_change']\n",
    "    #docket_nodes[str(docket_row['id'])]['features']['date_blocked'] = docket_row['date_blocked']\n",
    "    ## add neighbors\n",
    "    docket_nodes[str(docket_row['id'])]['neighbors']['opinion_cluster'] = docket2opinion_clusters[str(docket_row['id'])] if str(docket_row['id']) in docket2opinion_clusters else []\n",
    "    docket_nodes[str(docket_row['id'])]['neighbors']['court'] = [str(docket_row['court_id'])]\n",
    "    court2docket[str(docket_row['court_id'])].append(str(docket_row['id']))\n",
    "\n",
    "\n",
    "# add court nodes\n",
    "for idd, court_row in tqdm(court_raw_data.iterrows()):\n",
    "    court_nodes[str(court_row['id'])] = {'features': {}, 'neighbors': {}}\n",
    "    ## add features\n",
    "    #court_nodes[str(court_row['id'])]['features']['date_modified'] = court_row['date_modified']\n",
    "    #court_nodes[str(court_row['id'])]['features']['position'] = court_row['position']\n",
    "    court_nodes[str(court_row['id'])]['features']['citation_string'] = court_row['citation_string']\n",
    "    #court_nodes[str(court_row['id'])]['features']['short_name'] = court_row['short_name']\n",
    "    court_nodes[str(court_row['id'])]['features']['full_name'] = court_row['full_name']\n",
    "    #court_nodes[str(court_row['id'])]['features']['url'] = court_row['url']\n",
    "    court_nodes[str(court_row['id'])]['features']['start_date'] = court_row['start_date']\n",
    "    court_nodes[str(court_row['id'])]['features']['end_date'] = court_row['end_date']\n",
    "    #court_nodes[str(court_row['id'])]['features']['jurisdiction'] = court_row['jurisdiction']\n",
    "    #court_nodes[str(court_row['id'])]['features']['notes'] = court_row['notes']\n",
    "    ## add neighbours\n",
    "    court_nodes[str(court_row['id'])]['neighbors']['docket'] = court2docket[str(court_row['id'])] if str(court_row['id']) in court2docket else []"
   ]
  },
  {
   "cell_type": "code",
   "execution_count": null,
   "metadata": {},
   "outputs": [],
   "source": [
    "## save graph\n",
    "#pickle.dump({\n",
    "#    'opinion_nodes': opinion_nodes,\n",
    "#    'opinion_cluster_nodes': opinion_cluster_nodes,\n",
    "#    'docket_nodes': docket_nodes,\n",
    "#    'court_nodes': court_nodes\n",
    "#}, open(os.path.join(save_dir, 'graph.pkl'),\"wb\"))\n",
    "\n",
    "json.dump({\n",
    "    'opinion_nodes': opinion_nodes,\n",
    "    'opinion_cluster_nodes': opinion_cluster_nodes,\n",
    "    'docket_nodes': docket_nodes,\n",
    "    'court_nodes': court_nodes\n",
    "}, open(os.path.join(save_dir, 'graph_raw.json'),\"w\"), indent = 4)"
   ]
  },
  {
   "cell_type": "code",
   "execution_count": null,
   "metadata": {},
   "outputs": [],
   "source": [
    "list(opinion_nodes.keys())[:5]"
   ]
  },
  {
   "cell_type": "code",
   "execution_count": null,
   "metadata": {},
   "outputs": [],
   "source": [
    "opinion_nodes['7344188']"
   ]
  }
 ],
 "metadata": {
  "kernelspec": {
   "display_name": "transformers-latest",
   "language": "python",
   "name": "python3"
  },
  "language_info": {
   "codemirror_mode": {
    "name": "ipython",
    "version": 3
   },
   "file_extension": ".py",
   "mimetype": "text/x-python",
   "name": "python",
   "nbconvert_exporter": "python",
   "pygments_lexer": "ipython3",
   "version": "3.8.17"
  },
  "orig_nbformat": 4
 },
 "nbformat": 4,
 "nbformat_minor": 2
}
