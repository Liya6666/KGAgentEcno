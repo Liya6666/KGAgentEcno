{
 "cells": [
  {
   "cell_type": "code",
   "execution_count": null,
   "metadata": {},
   "outputs": [],
   "source": [
    "import os\n",
    "import json\n",
    "from tqdm import tqdm\n",
    "\n",
    "import pickle"
   ]
  },
  {
   "cell_type": "code",
   "execution_count": null,
   "metadata": {},
   "outputs": [],
   "source": [
    "## nodes: books, authors, publisher, series\n",
    "## book features: country_code, language_code, popular_shelves, is_ebook, description, format, num_pages, publication_year, title, genres\n",
    "## author features: name\n",
    "## publisher: name\n",
    "## series: title, description"
   ]
  },
  {
   "cell_type": "code",
   "execution_count": null,
   "metadata": {},
   "outputs": [],
   "source": [
    "raw_data_dir=\"/home/ec2-user/quic-efs/user/bowenjin/llm-graph-plugin/data/raw_data/goodreads\"\n",
    "save_dir=\"/home/ec2-user/quic-efs/user/bowenjin/llm-graph-plugin/data/processed_data/goodreads\""
   ]
  },
  {
   "cell_type": "code",
   "execution_count": null,
   "metadata": {},
   "outputs": [],
   "source": [
    "## read raw data files\n",
    "\n",
    "def read_json_lines(file, id_key):\n",
    "    data = {}\n",
    "    with open(file) as f:\n",
    "        readin = f.readlines()\n",
    "        for line in tqdm(readin):\n",
    "            tmp = json.loads(line)\n",
    "            data[tmp[id_key]] = tmp\n",
    "    return data\n",
    "\n",
    "book_raw_data = read_json_lines(os.path.join(raw_data_dir, 'goodreads_books.json'), 'book_id')\n",
    "author_raw_data = read_json_lines(os.path.join(raw_data_dir, 'goodreads_book_authors.json'), 'author_id')\n",
    "genres_raw_data = read_json_lines(os.path.join(raw_data_dir, 'goodreads_book_genres_initial.json'), 'book_id')\n",
    "series_raw_data = read_json_lines(os.path.join(raw_data_dir, 'goodreads_book_series.json'), 'series_id')"
   ]
  },
  {
   "cell_type": "code",
   "execution_count": null,
   "metadata": {},
   "outputs": [],
   "source": []
  },
  {
   "cell_type": "code",
   "execution_count": null,
   "metadata": {},
   "outputs": [],
   "source": [
    "list(book_raw_data.keys())[:4]"
   ]
  },
  {
   "cell_type": "code",
   "execution_count": null,
   "metadata": {},
   "outputs": [],
   "source": [
    "book_raw_data['1333909']['similar_books']"
   ]
  },
  {
   "cell_type": "code",
   "execution_count": null,
   "metadata": {},
   "outputs": [],
   "source": []
  },
  {
   "cell_type": "code",
   "execution_count": null,
   "metadata": {},
   "outputs": [],
   "source": [
    "## construct book node dictionary\n",
    "## book features: country_code, language_code, is_ebook, title, description, format, num_pages, publication_year, genres, popular_shelves\n",
    "## book neighbors: author, publisher, series\n",
    "\n",
    "## author features: name\n",
    "## author neighbors: books\n",
    "\n",
    "## publisher features: name\n",
    "## publisher neighbors: books\n",
    "\n",
    "## series features: title, description\n",
    "## series neighbors: books\n",
    "\n",
    "book_nodes = {}\n",
    "author_nodes = {}\n",
    "publisher_nodes = {}\n",
    "series_nodes = {}\n",
    "\n",
    "publisher_name2id = {}\n",
    "\n",
    "for book_id in tqdm(book_raw_data):\n",
    "    \n",
    "    # publisher nodes\n",
    "    if book_raw_data[book_id]['publisher'] != '':\n",
    "        if book_raw_data[book_id]['publisher'] not in publisher_name2id:\n",
    "            idd = f'pub_{len(publisher_nodes)}'\n",
    "            publisher_name2id[book_raw_data[book_id]['publisher']] = idd\n",
    "            publisher_nodes[idd] = {'features': {}, 'neighbors': {}}\n",
    "            publisher_nodes[idd]['features']['name'] = book_raw_data[book_id]['publisher']\n",
    "            publisher_nodes[idd]['neighbors']['book'] = [book_id]\n",
    "        else:\n",
    "            publisher_nodes[publisher_name2id[book_raw_data[book_id]['publisher']]]['neighbors']['book'].append(book_id)\n",
    "\n",
    "    # book nodes\n",
    "    book_nodes[book_id] = {'features': {}, 'neighbors': {}}\n",
    "    ## add features\n",
    "    book_nodes[book_id]['features']['country_code'] = book_raw_data[book_id]['country_code']\n",
    "    book_nodes[book_id]['features']['language_code'] = book_raw_data[book_id]['language_code']\n",
    "    book_nodes[book_id]['features']['is_ebook'] = book_raw_data[book_id]['is_ebook']\n",
    "    book_nodes[book_id]['features']['title'] = book_raw_data[book_id]['title']\n",
    "    book_nodes[book_id]['features']['description'] = book_raw_data[book_id]['description']\n",
    "    book_nodes[book_id]['features']['format'] = book_raw_data[book_id]['format']\n",
    "    book_nodes[book_id]['features']['num_pages'] = book_raw_data[book_id]['num_pages']\n",
    "    book_nodes[book_id]['features']['publication_year'] = book_raw_data[book_id]['publication_year']\n",
    "    book_nodes[book_id]['features']['url'] = book_raw_data[book_id]['url']\n",
    "    book_nodes[book_id]['features']['popular_shelves'] = [dd['name'] for dd in book_raw_data[book_id]['popular_shelves']]\n",
    "    book_nodes[book_id]['features']['genres'] = list(genres_raw_data[book_id]['genres'].keys())\n",
    "    ## add neighbors\n",
    "    book_nodes[book_id]['neighbors']['author'] = [a['author_id'] for a in book_raw_data[book_id]['authors']]\n",
    "    book_nodes[book_id]['neighbors']['publisher'] = [publisher_name2id[book_raw_data[book_id]['publisher']]] if book_raw_data[book_id]['publisher'] != '' else []\n",
    "    book_nodes[book_id]['neighbors']['series'] = book_raw_data[book_id]['series']\n",
    "    book_nodes[book_id]['neighbors']['similar_books'] = book_raw_data[book_id]['similar_books']\n",
    "\n",
    "    # author nodes\n",
    "    for aid in book_nodes[book_id]['neighbors']['author']:\n",
    "        if aid not in author_nodes:\n",
    "            author_nodes[aid] = {'features': {}, 'neighbors': {}}\n",
    "            author_nodes[aid]['features']['name'] = author_raw_data[aid]['name']\n",
    "            author_nodes[aid]['neighbors']['book'] = [book_id]\n",
    "        else:\n",
    "            author_nodes[aid]['neighbors']['book'].append(book_id)\n",
    "\n",
    "    # series nodes\n",
    "    for sid in book_nodes[book_id]['neighbors']['series']:\n",
    "        if sid not in series_nodes:\n",
    "            series_nodes[sid] = {'features': {}, 'neighbors': {}}\n",
    "            series_nodes[sid]['features']['title'] = series_raw_data[sid]['title']\n",
    "            series_nodes[sid]['features']['description'] = series_raw_data[sid]['description']\n",
    "            series_nodes[sid]['neighbors']['book'] = [book_id]\n",
    "        else:\n",
    "            series_nodes[sid]['neighbors']['book'].append(book_id)\n"
   ]
  },
  {
   "cell_type": "code",
   "execution_count": null,
   "metadata": {},
   "outputs": [],
   "source": [
    "## save graph\n",
    "#pickle.dump({\n",
    "#    'book_nodes': book_nodes,\n",
    "#    'author_nodes': author_nodes,\n",
    "#    'publisher_nodes': publisher_nodes,\n",
    "#    'series_nodes': series_nodes\n",
    "#}, open(os.path.join(save_dir, 'graph.pkl'),\"wb\"))\n",
    "\n",
    "json.dump({\n",
    "    'book_nodes': book_nodes,\n",
    "    'author_nodes': author_nodes,\n",
    "    'publisher_nodes': publisher_nodes,\n",
    "    'series_nodes': series_nodes\n",
    "}, open(os.path.join(save_dir, 'graph.json'),\"w\"), indent=4)"
   ]
  }
 ],
 "metadata": {
  "kernelspec": {
   "display_name": "transformers-latest",
   "language": "python",
   "name": "python3"
  },
  "language_info": {
   "codemirror_mode": {
    "name": "ipython",
    "version": 3
   },
   "file_extension": ".py",
   "mimetype": "text/x-python",
   "name": "python",
   "nbconvert_exporter": "python",
   "pygments_lexer": "ipython3",
   "version": "3.8.18"
  },
  "orig_nbformat": 4
 },
 "nbformat": 4,
 "nbformat_minor": 2
}
