{
 "cells": [
  {
   "cell_type": "code",
   "execution_count": null,
   "metadata": {},
   "outputs": [],
   "source": [
    "import os\n",
    "import json\n",
    "from tqdm import tqdm\n",
    "\n",
    "import pickle"
   ]
  },
  {
   "cell_type": "code",
   "execution_count": null,
   "metadata": {},
   "outputs": [],
   "source": [
    "## nodes: papers, authors, venues\n",
    "## paper features: title, abstract, keywords, lang, year\n",
    "## author features: name, org\n",
    "## venue features: name"
   ]
  },
  {
   "cell_type": "code",
   "execution_count": null,
   "metadata": {},
   "outputs": [],
   "source": [
    "raw_data_dir=\"/home/ec2-user/quic-efs/user/bowenjin/llm-graph-plugin/data/raw_data/dblp\"\n",
    "save_dir=\"/home/ec2-user/quic-efs/user/bowenjin/llm-graph-plugin/data/processed_data/dblp\""
   ]
  },
  {
   "cell_type": "code",
   "execution_count": null,
   "metadata": {},
   "outputs": [],
   "source": [
    "## read raw data files\n",
    "\n",
    "def read_json(file):\n",
    "    with open(file) as f:\n",
    "        data = json.load(f)\n",
    "    return data\n",
    "\n",
    "paper_raw_data = read_json(os.path.join(raw_data_dir, 'dblp_v14.json'))"
   ]
  },
  {
   "cell_type": "code",
   "execution_count": null,
   "metadata": {},
   "outputs": [],
   "source": [
    "## construct node dictionary\n",
    "## paper features: title, abstract, keywords, lang, year\n",
    "## paper neighbors: paper, author, venue\n",
    "\n",
    "## author features: name, org\n",
    "## author neighbors: paper\n",
    "\n",
    "## venue features: name\n",
    "## venue neighbors: paper\n",
    "\n",
    "paper_nodes = {}\n",
    "author_nodes = {}\n",
    "venue_nodes = {}\n",
    "\n",
    "venue_name2id = {}\n",
    "\n",
    "for paper in tqdm(paper_raw_data):\n",
    "    \n",
    "    # venue nodes\n",
    "    if paper['venue']['raw'] != '':\n",
    "        if paper['venue']['raw'] not in venue_name2id:\n",
    "            idd = f'pub_{len(venue_nodes)}'\n",
    "            venue_name2id[paper['venue']['raw']] = idd\n",
    "            venue_nodes[idd] = {'features': {}, 'neighbors': {}}\n",
    "            venue_nodes[idd]['features']['name'] = paper['venue']['raw']\n",
    "            venue_nodes[idd]['neighbors']['paper'] = [paper[\"id\"]]\n",
    "        else:\n",
    "            venue_nodes[venue_name2id[paper['venue']['raw']]]['neighbors']['paper'].append(paper[\"id\"])\n",
    "\n",
    "    # paper nodes\n",
    "    paper_nodes[paper[\"id\"]] = {'features': {}, 'neighbors': {}}\n",
    "    ## add features\n",
    "    paper_nodes[paper[\"id\"]]['features']['title'] = paper['title']\n",
    "    paper_nodes[paper[\"id\"]]['features']['abstract'] = paper['abstract']\n",
    "    paper_nodes[paper[\"id\"]]['features']['keywords'] = paper['keywords']\n",
    "    paper_nodes[paper[\"id\"]]['features']['lang'] = paper['lang']\n",
    "    paper_nodes[paper[\"id\"]]['features']['year'] = paper['year']\n",
    "    ## add neighbors\n",
    "    paper_nodes[paper[\"id\"]]['neighbors']['author'] = [a['id'] for a in paper['authors']]\n",
    "    paper_nodes[paper[\"id\"]]['neighbors']['venue'] = [venue_name2id[paper['venue']['raw']]] if paper['venue']['raw'] != '' else []\n",
    "    paper_nodes[paper[\"id\"]]['neighbors']['reference'] = paper['references'] if 'references' in paper else []\n",
    "    paper_nodes[paper[\"id\"]]['neighbors']['cited_by'] = []\n",
    "\n",
    "    # author nodes\n",
    "    for a in paper['authors']:\n",
    "        if a[\"id\"] not in author_nodes:\n",
    "            author_nodes[a[\"id\"]] = {'features': {}, 'neighbors': {}}\n",
    "            author_nodes[a[\"id\"]]['features']['name'] = a['name']\n",
    "            author_nodes[a[\"id\"]]['features']['organization'] = a['org']\n",
    "            author_nodes[a[\"id\"]]['neighbors']['paper'] = [paper[\"id\"]]\n",
    "        else:\n",
    "            author_nodes[a[\"id\"]]['neighbors']['paper'].append(paper[\"id\"])\n",
    "\n",
    "## add 'cited_by' for paper nodes\n",
    "for paper_id in tqdm(paper_nodes):\n",
    "    for ref_pid in paper_nodes[paper_id]['neighbors']['reference']:\n",
    "        if ref_pid not in paper_nodes:\n",
    "            continue\n",
    "        paper_nodes[ref_pid]['neighbors']['cited_by'].append(paper_id)"
   ]
  },
  {
   "cell_type": "code",
   "execution_count": null,
   "metadata": {},
   "outputs": [],
   "source": [
    "## save graph\n",
    "#pickle.dump({\n",
    "#    'paper_nodes': paper_nodes,\n",
    "#    'author_nodes': author_nodes,\n",
    "#    'venue_nodes': venue_nodes,\n",
    "#}, open(os.path.join(save_dir, 'graph.pkl'),\"wb\"))\n",
    "\n",
    "json.dump({\n",
    "    'paper_nodes': paper_nodes,\n",
    "    'author_nodes': author_nodes,\n",
    "    'venue_nodes': venue_nodes,\n",
    "}, open(os.path.join(save_dir, 'graph.json'),\"w\"), indent=4)"
   ]
  }
 ],
 "metadata": {
  "kernelspec": {
   "display_name": "transformers-latest",
   "language": "python",
   "name": "python3"
  },
  "language_info": {
   "codemirror_mode": {
    "name": "ipython",
    "version": 3
   },
   "file_extension": ".py",
   "mimetype": "text/x-python",
   "name": "python",
   "nbconvert_exporter": "python",
   "pygments_lexer": "ipython3",
   "version": "3.8.17"
  },
  "orig_nbformat": 4
 },
 "nbformat": 4,
 "nbformat_minor": 2
}
