{
 "cells": [
  {
   "cell_type": "code",
   "execution_count": null,
   "metadata": {},
   "outputs": [],
   "source": [
    "import os\n",
    "import json\n",
    "from tqdm import tqdm\n",
    "from collections import defaultdict\n",
    "\n",
    "import pickle"
   ]
  },
  {
   "cell_type": "code",
   "execution_count": null,
   "metadata": {},
   "outputs": [],
   "source": [
    "raw_data_dir=\"/home/ec2-user/quic-efs/user/bowenjin/llm-graph-plugin/data/raw_data/biology\"\n",
    "save_dir=\"/home/ec2-user/quic-efs/user/bowenjin/llm-graph-plugin/data/processed_data/biology\""
   ]
  },
  {
   "cell_type": "code",
   "execution_count": null,
   "metadata": {},
   "outputs": [],
   "source": [
    "## read raw data files\n",
    "\n",
    "def read_json(file):\n",
    "    with open(file) as f:\n",
    "        data = json.load(f)\n",
    "    return data\n",
    "\n",
    "raw_data = json.load(open(os.path.join(raw_data_dir, 'hetionet-v1.0.json')))"
   ]
  },
  {
   "cell_type": "code",
   "execution_count": null,
   "metadata": {},
   "outputs": [],
   "source": [
    "raw_data.keys()"
   ]
  },
  {
   "cell_type": "code",
   "execution_count": null,
   "metadata": {},
   "outputs": [],
   "source": [
    "raw_data['metanode_kinds']"
   ]
  },
  {
   "cell_type": "code",
   "execution_count": null,
   "metadata": {},
   "outputs": [],
   "source": [
    "raw_data['nodes']"
   ]
  },
  {
   "cell_type": "code",
   "execution_count": null,
   "metadata": {},
   "outputs": [],
   "source": [
    "metaedges = {\n",
    "    \"Anatomy-downregulates-Gene\": \"The Gene is under-expressed in the Anatomy in post-juvenile adult human samples according to Bgee\",\n",
    "    \"Anatomy-expresses-Gene\": \"The Gene is over-expressed in the Anatomy according to Bgee or TISSUES\",\n",
    "    \"Anatomy-upregulates-Gene\": \"The Gene is over-expressed in the Anatomy in post-juvenile adult human samples according to Bgee\",\n",
    "    \"Compound-binds-Gene\": \"The Compound physically binds to the Gene's protein product according to BindingDB, DrugBank, or DrugCentral\",\n",
    "    \"Compound-causes-Side Effect\": \"The Compound can cause the Side Effect according to a drug label in SIDER 4.1\",\n",
    "    \"Compound-downregulates-Gene\": \"The Gene is under-expressed in samples exposed to the Compound according to a consensus signature from LINCS L1000\",\n",
    "    \"Compound-palliates-Disease\": \"The Compound is a symptomatic indication for the Disease (i.e. the Compound treats a significant symptom of the Disease) according to PharmacotherapyDB\",\n",
    "    \"Compound-resembles-Compound\": \"The Compounds are chemical similar to each other: Their extended connectivity fingerprints have a Dice coefficient ≥ 0.5.\",\n",
    "    \"Compound-treats-Disease\": \"The Compound is a disease-modifying indication for the Disease (i.e. the Compound therapeutically changes the underlying or downstream biology of the Disease) according to PharmacotherapyDB\",\n",
    "    \"Compound-upregulates-Gene\": \"The Gene is over-expressed in samples exposed to the Compound according to a consensus signature from LINCS L1000\",\n",
    "    \"Disease-associates-Gene\": \"The Gene is associated with the Gene according to GWAS Catalog, DISEASES, DisGeNET, or DOAF\",\n",
    "    \"Disease-downregulates-Gene\": \"The Gene is under-expressed in Disease samples according to a STARGEO meta-analysis\",\n",
    "    \"Disease-localizes-Anatomy\": \"The Disease affects or is related to the Anatomy as inferred by co-occurrence in MEDLINE abstracts\",\n",
    "    \"Disease-presents-Symptom\": \"The Disease presents the Anatomy as inferred by co-occurrence in MEDLINE abstracts\",\n",
    "    \"Disease-resembles-Disease\": \"Two Diseases are similar as inferred by co-occurrence in MEDLINE abstracts\",\n",
    "    \"Disease-upregulates-Gene\": \"The Gene is over-expressed in Disease samples according to a STARGEO meta-analysis\",\n",
    "    \"Gene-covaries-Gene\": \"Two genes have similar evolutionary histories in mammals, according to Evolutionary Rate Covariation ≥ 0.7 (Priedigkeit et al, 2015)\",\n",
    "    \"Gene-interacts-Gene\": \"The genes produce physically-interacting proteins in humans according to the Human Reference Protein Interactome Mapping Project, the Incomplete Interactome, or other PPI databases previously used by Hetio\",\n",
    "    \"Gene-participates-Biological Process\": \"The Gene's product participates in the Biological Process (or its subterms) according to Gene Ontology Annotations\",\n",
    "    \"Gene-participates-Cellular Component\": \"The Gene's product participates in the Cellular Component (or its subterms) according to Gene Ontology Annotations\",\n",
    "    \"Gene-participates-Molecular Function\": \"The Gene's product participates in the Molecular Function (or its subterms) according to Gene Ontology Annotations\",\n",
    "    \"Gene-participates-Pathway\": \"The Gene participates in the Pathway, according WikiPathways, Reactome, or Pathway Interaction Database\",\n",
    "    \"Gene-regulates-Gene\": \"Knockdown or over-expression of the source Gene significantly dysregulated the target Gene according to a consensus signature from LINCS L1000 genetic interference screens\",\n",
    "    \"Pharmacologic Class-includes-Compound\": \"The Compound belongs to the Pharmacologic Class according to DrugCentral\"\n",
    "  }"
   ]
  },
  {
   "cell_type": "code",
   "execution_count": null,
   "metadata": {},
   "outputs": [],
   "source": [
    "## construct node dictionary\n",
    "\n",
    "Anatomy_nodes = {}\n",
    "Biological_Process_nodes = {}\n",
    "Cellular_Component_nodes = {}\n",
    "Compound_nodes = {}\n",
    "Disease_nodes = {}\n",
    "Gene_nodes = {}\n",
    "Molecular_Function_nodes = {}\n",
    "Pathway_nodes = {}\n",
    "Pharmacologic_Class_nodes = {}\n",
    "Side_Effect_nodes = {}\n",
    "Symptom_nodes = {}\n",
    "\n",
    "id_set = set()\n",
    "\n",
    "## add nodes\n",
    "for nd in tqdm(raw_data['nodes']):\n",
    "    node_type = '_'.join(nd['kind'].split(' '))\n",
    "    idd = str(nd['identifier'])\n",
    "    assert idd not in id_set\n",
    "    id_set.add(idd)\n",
    "\n",
    "    exec(f\"{node_type}_nodes[idd]=dict(features=dict(), neighbors=defaultdict(list))\")\n",
    "    exec(f\"{node_type}_nodes[idd]['features']['name']=nd['name']\")\n",
    "    for k in nd['data']:\n",
    "        if k not in ['source', 'license']:\n",
    "            exec(f\"{node_type}_nodes[idd]['features'][k]=nd['data'][k]\")\n",
    "    exec(f\"{node_type}_nodes[idd]['features']['node_type']=node_type\")\n",
    "\n",
    "print(len(Anatomy_nodes), len(Biological_Process_nodes), len(Cellular_Component_nodes), len(Compound_nodes), len(Disease_nodes), len(Gene_nodes), len(Molecular_Function_nodes), len(Pathway_nodes), len(Pharmacologic_Class_nodes), len(Side_Effect_nodes), len(Symptom_nodes))\n",
    "print(len(Anatomy_nodes)+len(Biological_Process_nodes)+len(Cellular_Component_nodes)+len(Compound_nodes)+len(Disease_nodes)+len(Gene_nodes)+len(Molecular_Function_nodes)+len(Pathway_nodes)+len(Pharmacologic_Class_nodes)+len(Side_Effect_nodes)+len(Symptom_nodes))\n",
    "\n",
    "## add edges\n",
    "for eg in tqdm(raw_data['edges']):\n",
    "    source_node_type = '_'.join(eg['source_id'][0].split(' '))\n",
    "    source_idd = str(eg['source_id'][1])\n",
    "    target_node_type = '_'.join(eg['target_id'][0].split(' '))\n",
    "    target_idd = str(eg['target_id'][1])\n",
    "    edge_type = eg['source_id'][0] + '-' + eg['kind'] + '-' + eg['target_id'][0]\n",
    "\n",
    "    assert edge_type in metaedges, edge_type\n",
    "\n",
    "    #exec(f\"{source_node_type}_nodes[source_idd]['neighbors'][edge_type]=[target_idd] if edge_type not in {source_node_type}_nodes[source_idd]['neighbors'] else {source_node_type}_nodes[source_idd]['neighbors'][edge_type].append(target_idd)\")\n",
    "    exec(f\"{source_node_type}_nodes[source_idd]['neighbors'][edge_type].append(target_idd)\")\n",
    "    if eg['direction'] == 'both':\n",
    "        exec(f\"{target_node_type}_nodes[target_idd]['neighbors'][edge_type].append(source_idd)\")"
   ]
  },
  {
   "cell_type": "code",
   "execution_count": null,
   "metadata": {},
   "outputs": [],
   "source": [
    "## save graph\n",
    "\n",
    "json.dump({\n",
    "    'Anatomy_nodes': Anatomy_nodes,\n",
    "    'Biological_Process_nodes': Biological_Process_nodes,\n",
    "    'Cellular_Component_nodes': Cellular_Component_nodes,\n",
    "    'Compound_nodes': Compound_nodes,\n",
    "    'Disease_nodes': Disease_nodes,\n",
    "    'Gene_nodes': Gene_nodes,\n",
    "    'Molecular_Function_nodes': Molecular_Function_nodes,\n",
    "    'Pathway_nodes': Pathway_nodes,\n",
    "    'Pharmacologic_Class_nodes': Pharmacologic_Class_nodes,\n",
    "    'Side_Effect_nodes': Side_Effect_nodes,\n",
    "    'Symptom_nodes': Symptom_nodes\n",
    "}, open(os.path.join(save_dir, 'graph.json'),\"w\"), indent=4)"
   ]
  },
  {
   "cell_type": "code",
   "execution_count": null,
   "metadata": {},
   "outputs": [],
   "source": []
  }
 ],
 "metadata": {
  "kernelspec": {
   "display_name": "transformers-latest",
   "language": "python",
   "name": "python3"
  },
  "language_info": {
   "codemirror_mode": {
    "name": "ipython",
    "version": 3
   },
   "file_extension": ".py",
   "mimetype": "text/x-python",
   "name": "python",
   "nbconvert_exporter": "python",
   "pygments_lexer": "ipython3",
   "version": "3.10.12"
  },
  "orig_nbformat": 4
 },
 "nbformat": 4,
 "nbformat_minor": 2
}
