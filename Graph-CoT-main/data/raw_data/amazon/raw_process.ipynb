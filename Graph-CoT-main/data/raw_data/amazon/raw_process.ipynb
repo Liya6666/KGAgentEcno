{
 "cells": [
  {
   "cell_type": "code",
   "metadata": {
    "ExecuteTime": {
     "end_time": "2025-09-23T12:17:13.632425Z",
     "start_time": "2025-09-23T12:17:13.630436Z"
    }
   },
   "source": [
    "import os\n",
    "import json\n",
    "from tqdm import tqdm\n",
    "import re\n",
    "import pickle"
   ],
   "outputs": [],
   "execution_count": 47
  },
  {
   "cell_type": "code",
   "metadata": {
    "ExecuteTime": {
     "end_time": "2025-09-23T12:17:13.637060Z",
     "start_time": "2025-09-23T12:17:13.635690Z"
    }
   },
   "source": [
    "## nodes: items, brands\n",
    "## item features: title, description, category, price, img\n",
    "## item edges: also_viewed, buy_after_viewing, also_bought, bought_together\n",
    "## brand features: name"
   ],
   "outputs": [],
   "execution_count": 48
  },
  {
   "cell_type": "code",
   "metadata": {
    "ExecuteTime": {
     "end_time": "2025-09-23T12:17:13.648462Z",
     "start_time": "2025-09-23T12:17:13.647073Z"
    }
   },
   "source": [
    "raw_data_dir=\"/Users/yehaoran/Desktop/KGAgentEcno/Graph-CoT-main/data/raw_data/amazon\"\n",
    "save_dir=\"/Users/yehaoran/Desktop/KGAgentEcno/Graph-CoT-main/data/processed_data/amazon\""
   ],
   "outputs": [],
   "execution_count": 49
  },
  {
   "cell_type": "code",
   "metadata": {
    "ExecuteTime": {
     "end_time": "2025-09-23T12:17:13.693699Z",
     "start_time": "2025-09-23T12:17:13.657079Z"
    }
   },
   "source": [
    "## read raw data files\n",
    "\n",
    "def read_json_lines(file, id_key):\n",
    "    data = {}\n",
    "    with open(file) as f:\n",
    "        readin = f.readlines()\n",
    "        for line in tqdm(readin):\n",
    "            try:\n",
    "                tmp = json.loads(line)  # 使用json.loads替代eval\n",
    "                data[tmp[id_key]] = tmp\n",
    "            except json.JSONDecodeError as e:\n",
    "                print(f\"解析JSON失败: {e}\")\n",
    "                continue\n",
    "    return data\n",
    "\n",
    "item_raw_data = read_json_lines(os.path.join(raw_data_dir, 'meta_Magazine_Subscriptions.json'), 'asin')\n",
    "# 检查数据是否正确读取\n",
    "print(f\"Total items loaded: {len(item_raw_data)}\")\n",
    "print(\"First 10 keys:\")\n",
    "keys_list = list(item_raw_data.keys())\n",
    "for i, key in enumerate(keys_list[:10]):\n",
    "    print(f\"{i+1}: {key}\")"
   ],
   "outputs": [
    {
     "name": "stderr",
     "output_type": "stream",
     "text": [
      "100%|██████████| 3385/3385 [00:00<00:00, 123482.05it/s]"
     ]
    },
    {
     "name": "stdout",
     "output_type": "stream",
     "text": [
      "Total items loaded: 2320\n",
      "First 10 keys:\n",
      "1: B00005N7NQ\n",
      "2: B00005N7OC\n",
      "3: B00005N7OD\n",
      "4: B00005N7O9\n",
      "5: B00005N7O6\n",
      "6: B00005N7P0\n",
      "7: B00005N7QG\n",
      "8: B00005N7PI\n",
      "9: B00005N7OP\n",
      "10: B00005N7Q5\n"
     ]
    },
    {
     "name": "stderr",
     "output_type": "stream",
     "text": [
      "\n"
     ]
    }
   ],
   "execution_count": 50
  },
  {
   "cell_type": "code",
   "metadata": {
    "ExecuteTime": {
     "end_time": "2025-09-23T12:17:13.704576Z",
     "start_time": "2025-09-23T12:17:13.702130Z"
    }
   },
   "source": "keys_list[:5] if len(keys_list) >= 5 else keys_list",
   "outputs": [
    {
     "data": {
      "text/plain": [
       "['B00005N7NQ', 'B00005N7OC', 'B00005N7OD', 'B00005N7O9', 'B00005N7O6']"
      ]
     },
     "execution_count": 51,
     "metadata": {},
     "output_type": "execute_result"
    }
   ],
   "execution_count": 51
  },
  {
   "cell_type": "code",
   "metadata": {
    "ExecuteTime": {
     "end_time": "2025-09-23T12:17:13.715480Z",
     "start_time": "2025-09-23T12:17:13.713406Z"
    }
   },
   "source": [
    "# 使用实际存在的键\n",
    "if keys_list:\n",
    "    first_key = keys_list[0]\n",
    "    print(f\"Sample data for key '{first_key}':\")\n",
    "    item_raw_data[first_key]"
   ],
   "outputs": [
    {
     "name": "stdout",
     "output_type": "stream",
     "text": [
      "Sample data for key 'B00005N7NQ':\n"
     ]
    }
   ],
   "execution_count": 52
  },
  {
   "cell_type": "code",
   "metadata": {
    "ExecuteTime": {
     "end_time": "2025-09-23T12:17:13.732431Z",
     "start_time": "2025-09-23T12:17:13.729019Z"
    }
   },
   "source": [
    "related_name = set()\n",
    "for itt in tqdm(item_raw_data):\n",
    "    if \"also_view\" in item_raw_data[itt]:\n",
    "        related_name.add('also_view')\n",
    "    if \"also_buy\" in item_raw_data[itt]:\n",
    "        related_name.add('also_buy')\n",
    "print(related_name)"
   ],
   "outputs": [
    {
     "name": "stderr",
     "output_type": "stream",
     "text": [
      "100%|██████████| 2320/2320 [00:00<00:00, 2452933.02it/s]"
     ]
    },
    {
     "name": "stdout",
     "output_type": "stream",
     "text": [
      "{'also_buy', 'also_view'}\n"
     ]
    },
    {
     "name": "stderr",
     "output_type": "stream",
     "text": [
      "\n"
     ]
    }
   ],
   "execution_count": 53
  },
  {
   "cell_type": "code",
   "metadata": {
    "ExecuteTime": {
     "end_time": "2025-09-23T12:17:13.794702Z",
     "start_time": "2025-09-23T12:17:13.739423Z"
    }
   },
   "source": [
    "## construct node dictionary\n",
    "## item features: title, description, category, price, img\n",
    "## item edges: also_viewed, buy_after_viewing, also_bought, bought_together\n",
    "## item neighbors: item, brand\n",
    "\n",
    "## brand features: name\n",
    "## brand neighbors: item\n",
    "\n",
    "item_nodes = {}\n",
    "brand_nodes = {}\n",
    "\n",
    "brand_name2id = {}\n",
    "\n",
    "for item_id in tqdm(item_raw_data):\n",
    "    \n",
    "    # brand nodes\n",
    "    if 'brand' in item_raw_data[item_id] and item_raw_data[item_id]['brand'] != '':\n",
    "        if item_raw_data[item_id]['brand'] not in brand_name2id:\n",
    "            idd = f'brand_{len(brand_nodes)}'\n",
    "            brand_name2id[item_raw_data[item_id]['brand']] = idd\n",
    "            brand_nodes[idd] = {'features': {}, 'neighbors': {}}\n",
    "            brand_nodes[idd]['features']['name'] = item_raw_data[item_id]['brand']\n",
    "            brand_nodes[idd]['neighbors']['item'] = [item_id]\n",
    "        else:\n",
    "            brand_nodes[brand_name2id[item_raw_data[item_id]['brand']]]['neighbors']['item'].append(item_id)\n",
    "\n",
    "    # item nodes\n",
    "    item_nodes[item_id] = {'features': {}, 'neighbors': {}}\n",
    "    ## add features\n",
    "    # 添加清理HTML标签的函数\n",
    "    import re\n",
    "    def clean_html_tags(text):\n",
    "        \"\"\"移除HTML标签\"\"\"\n",
    "        if not text:\n",
    "            return ''\n",
    "        # 移除HTML标签\n",
    "        clean = re.compile('<.*?>')\n",
    "        return re.sub(clean, '', text).strip()\n",
    "\n",
    "    def get_title_from_data(item_data):\n",
    "        \"\"\"\n",
    "        从数据中提取标题，优先级如下：\n",
    "        1. 如果title字段有实际内容，使用清理后的title\n",
    "        2. 如果没有，尝试从description的第一句获取\n",
    "        3. 如果还没有，使用brand + main_cat作为标题\n",
    "        4. 最后使用ASIN作为标题\n",
    "        \"\"\"\n",
    "        # 方案1：尝试清理title字段\n",
    "        if \"title\" in item_data and item_data[\"title\"]:\n",
    "            cleaned_title = clean_html_tags(item_data[\"title\"])\n",
    "            if cleaned_title.strip():  # 如果清理后有内容\n",
    "                return cleaned_title\n",
    "\n",
    "        # 方案2：从description第一句提取\n",
    "        if \"description\" in item_data and item_data[\"description\"]:\n",
    "            descriptions = item_data[\"description\"]\n",
    "            if isinstance(descriptions, list) and len(descriptions) > 0:\n",
    "                first_desc = descriptions[0]\n",
    "                if first_desc and len(first_desc.strip()) > 0:\n",
    "                    # 取前50个字符作为标题\n",
    "                    title_from_desc = first_desc.strip()[:50]\n",
    "                    if len(first_desc) > 50:\n",
    "                        title_from_desc += \"...\"\n",
    "                    return title_from_desc\n",
    "            elif isinstance(descriptions, str) and descriptions.strip():\n",
    "                title_from_desc = descriptions.strip()[:50]\n",
    "                if len(descriptions) > 50:\n",
    "                    title_from_desc += \"...\"\n",
    "                return title_from_desc\n",
    "\n",
    "        # 方案3：使用brand + category\n",
    "        title_parts = []\n",
    "        if \"brand\" in item_data and item_data[\"brand\"]:\n",
    "            title_parts.append(item_data[\"brand\"])\n",
    "        if \"main_cat\" in item_data and item_data[\"main_cat\"]:\n",
    "            title_parts.append(item_data[\"main_cat\"])\n",
    "\n",
    "        if title_parts:\n",
    "            return \" - \".join(title_parts)\n",
    "\n",
    "        # 方案4：最后使用ASIN\n",
    "        return item_data.get(\"asin\", \"Unknown Item\")\n",
    "\n",
    "    # 在处理title时使用清理函数\n",
    "    # 使用新的标题提取函数\n",
    "    item_nodes[item_id]['features']['title'] = get_title_from_data(item_raw_data[item_id])\n",
    "    item_nodes[item_id]['features']['description'] = item_raw_data[item_id]['description'] if \"description\" in item_raw_data[item_id] else ''\n",
    "    item_nodes[item_id]['features']['price'] = item_raw_data[item_id]['price'] if \"price\" in item_raw_data[item_id] else ''\n",
    "    item_nodes[item_id]['features']['img'] = item_raw_data[item_id]['imageURL'][0] if \"imageURL\" in item_raw_data[item_id] and len(item_raw_data[item_id]['imageURL']) > 0 else ''\n",
    "    item_nodes[item_id]['features']['category'] = item_raw_data[item_id]['category'] if \"category\" in item_raw_data[item_id] else []\n",
    "    item_nodes[item_id]['features']['main_cat'] = item_raw_data[item_id]['main_cat'] if \"main_cat\" in item_raw_data[item_id] else ''\n",
    "    item_nodes[item_id]['features']['details'] = item_raw_data[item_id]['details'] if \"details\" in item_raw_data[item_id] else {}\n",
    "    ## add neighbors\n",
    "    item_nodes[item_id]['neighbors']['also_viewed_item'] = item_raw_data[item_id]['also_view'] if \"also_view\" in item_raw_data[item_id] else []\n",
    "    item_nodes[item_id]['neighbors']['buy_after_viewing_item'] = []\n",
    "    item_nodes[item_id]['neighbors']['also_bought_item'] = item_raw_data[item_id]['also_buy'] if \"also_buy\" in item_raw_data[item_id] else []\n",
    "    item_nodes[item_id]['neighbors']['bought_together_item'] = []\n",
    "    item_nodes[item_id]['neighbors']['brand'] = [brand_name2id[item_raw_data[item_id]['brand']]] if ('brand' in item_raw_data[item_id] and item_raw_data[item_id]['brand'] != '') else []\n",
    "\n",
    "# make the edges bidirectional\n",
    "for item_id in tqdm(item_nodes):\n",
    "    for rel in ['also_viewed_item', 'also_bought_item', 'bought_together_item']:\n",
    "        for nid in item_nodes[item_id]['neighbors'][rel]:\n",
    "            if nid not in item_nodes:\n",
    "                item_nodes[item_id]['neighbors'][rel].remove(nid)\n",
    "                continue\n",
    "            if item_id not in item_nodes[nid]['neighbors'][rel]:\n",
    "                item_nodes[nid]['neighbors'][rel].append(item_id)"
   ],
   "outputs": [
    {
     "name": "stderr",
     "output_type": "stream",
     "text": [
      "100%|██████████| 2320/2320 [00:00<00:00, 84036.77it/s]\n",
      "100%|██████████| 2320/2320 [00:00<00:00, 139188.19it/s]\n"
     ]
    }
   ],
   "execution_count": 54
  },
  {
   "cell_type": "code",
   "metadata": {
    "ExecuteTime": {
     "end_time": "2025-09-23T12:17:13.859814Z",
     "start_time": "2025-09-23T12:17:13.799580Z"
    }
   },
   "source": [
    "## save graph\n",
    "#pickle.dump({\n",
    "#    'item_nodes': item_nodes,\n",
    "#    'brand_nodes': brand_nodes,\n",
    "#}, open(os.path.join(save_dir, 'graph.pkl'),\"wb\"))\n",
    "\n",
    "json.dump({\n",
    "    'item_nodes': item_nodes,\n",
    "    'brand_nodes': brand_nodes,\n",
    "}, open(os.path.join(save_dir, 'magazine_graph.json'),\"w\"), indent=4)"
   ],
   "outputs": [],
   "execution_count": 55
  }
 ],
 "metadata": {
  "kernelspec": {
   "display_name": "transformers-latest",
   "language": "python",
   "name": "python3"
  },
  "language_info": {
   "codemirror_mode": {
    "name": "ipython",
    "version": 3
   },
   "file_extension": ".py",
   "mimetype": "text/x-python",
   "name": "python",
   "nbconvert_exporter": "python",
   "pygments_lexer": "ipython3",
   "version": "3.8.18"
  },
  "orig_nbformat": 4
 },
 "nbformat": 4,
 "nbformat_minor": 2
}
