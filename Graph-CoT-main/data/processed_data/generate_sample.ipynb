{
 "cells": [
  {
   "cell_type": "code",
   "execution_count": null,
   "metadata": {},
   "outputs": [],
   "source": [
    "import os\n",
    "import pickle\n",
    "import json\n",
    "import random\n",
    "from tqdm import tqdm\n",
    "\n",
    "from openai import OpenAI\n",
    "import time\n",
    "client = OpenAI(api_key=\"xxx\")"
   ]
  },
  {
   "cell_type": "code",
   "execution_count": null,
   "metadata": {},
   "outputs": [],
   "source": [
    "#domain=\"Materials_Science\" # Medicine, Chemistry, Biology, Physics, Materials_Science\n",
    "#data_dir=f\"/shared/data3/bowenj4/llm-graph-plugin/data/processed_data/maple/{domain}\"\n",
    "#downstream_dir=f\"/shared/data3/bowenj4/llm-graph-plugin/data/raw_data/maple\"\n",
    "\n",
    "#data_dir=f\"/shared/data3/bowenj4/llm-graph-plugin/data/processed_data/biomedical\"\n",
    "#downstream_dir=f\"/shared/data3/bowenj4/llm-graph-plugin/data/raw_data/biomedical\"\n",
    "\n",
    "data_dir=f\"/shared/data3/bowenj4/llm-graph-plugin/data/processed_data/dblp\"\n",
    "downstream_dir=f\"/shared/data3/bowenj4/llm-graph-plugin/data/raw_data/dblp\"\n",
    "\n",
    "#data_dir=f\"/shared/data3/bowenj4/llm-graph-plugin/data/processed_data/amazon\"\n",
    "#downstream_dir=f\"/shared/data3/bowenj4/llm-graph-plugin/data/raw_data/amazon\"\n",
    "\n",
    "#data_dir=f\"/shared/data3/bowenj4/llm-graph-plugin/data/processed_data/goodreads\"\n",
    "#downstream_dir=f\"/shared/data3/bowenj4/llm-graph-plugin/data/raw_data/goodreads\"\n",
    "\n",
    "#data_dir=f\"/shared/data3/bowenj4/llm-graph-plugin/data/processed_data/legal\"\n",
    "#downstream_dir=f\"/shared/data3/bowenj4/llm-graph-plugin/data/raw_data/legal\""
   ]
  },
  {
   "cell_type": "markdown",
   "metadata": {},
   "source": [
    "## Obtain question-answer samples"
   ]
  },
  {
   "cell_type": "code",
   "execution_count": null,
   "metadata": {},
   "outputs": [],
   "source": [
    "processed_data = pickle.load(open(os.path.join(data_dir, 'preprocess_samples.pkl'), 'rb'))"
   ]
  },
  {
   "cell_type": "markdown",
   "metadata": {},
   "source": [
    "### We prompt gpt4 to get more diverse templates for each question type"
   ]
  },
  {
   "cell_type": "code",
   "execution_count": null,
   "metadata": {},
   "outputs": [],
   "source": [
    "paraphrase_prompt = \"Paraphrase the given template in four different ways. Keep the name in '{}' unchanged, don't use ' in question and use the same format ('question_string', 'answer_string'): \"\n",
    "\n",
    "def paraphrase_gpt4(qa_template, k=5):\n",
    "    x = paraphrase_prompt + '\\n' + qa_template\n",
    "    response = client.chat.completions.create(\n",
    "            model=\"gpt-4\",\n",
    "            messages=[\n",
    "                {\"role\": \"system\", \"content\": \"You are a helpful assistant.\"},\n",
    "                {\"role\": \"user\", \"content\": x},\n",
    "            ]\n",
    "        )\n",
    "    para_list = response.choices[0].message.content.split('\\n')\n",
    "    para_list.append(qa_template)\n",
    "    filter_para_list = []\n",
    "    for p in para_list:\n",
    "        try:\n",
    "            eval(p)\n",
    "            if len(p) != 0:\n",
    "                if p[-1] == ',':\n",
    "                    p = p[:-1]\n",
    "                filter_para_list.append(p)\n",
    "        except:\n",
    "            pass\n",
    "    \n",
    "    return filter_para_list\n",
    "\n",
    "res = paraphrase_gpt4(\"('How many diseases have the same symptom with {disease_name}?', '{num}')\")\n",
    "print(res)"
   ]
  },
  {
   "cell_type": "code",
   "execution_count": null,
   "metadata": {},
   "outputs": [],
   "source": [
    "random.seed(2023)\n",
    "\n",
    "qid = 0\n",
    "\n",
    "with open(os.path.join(data_dir, 'data.json'), 'w') as fout:\n",
    "    for qa_template in tqdm(processed_data):\n",
    "        # q_template, a_template = qa_template\n",
    "        paraphrase_qa_templates = paraphrase_gpt4(str(qa_template))\n",
    "        for sample in processed_data[qa_template]:\n",
    "            try:\n",
    "                randc = random.choice(paraphrase_qa_templates)\n",
    "                q_template, a_template = eval(randc)\n",
    "            except:\n",
    "                try:\n",
    "                    randc = random.choice(paraphrase_qa_templates)\n",
    "                    q_template, a_template = eval(randc)\n",
    "                except:\n",
    "                    randc = random.choice(paraphrase_qa_templates)\n",
    "                    q_template, a_template = eval(randc)\n",
    "            tmp_question = q_template.format(**sample)\n",
    "            tmp_answer = a_template.format(**sample)\n",
    "            fout.write(json.dumps({\n",
    "                'qid': str(qid),\n",
    "                'question': tmp_question,\n",
    "                'answer': tmp_answer\n",
    "            }) + '\\n')\n",
    "            qid += 1"
   ]
  },
  {
   "cell_type": "code",
   "execution_count": null,
   "metadata": {},
   "outputs": [],
   "source": [
    "paraphrase_qa_templates"
   ]
  },
  {
   "cell_type": "code",
   "execution_count": null,
   "metadata": {},
   "outputs": [],
   "source": [
    "sample"
   ]
  }
 ],
 "metadata": {
  "kernelspec": {
   "display_name": "faiss_1.7.4",
   "language": "python",
   "name": "python3"
  },
  "language_info": {
   "codemirror_mode": {
    "name": "ipython",
    "version": 3
   },
   "file_extension": ".py",
   "mimetype": "text/x-python",
   "name": "python",
   "nbconvert_exporter": "python",
   "pygments_lexer": "ipython3",
   "version": "3.8.16"
  },
  "orig_nbformat": 4
 },
 "nbformat": 4,
 "nbformat_minor": 2
}
